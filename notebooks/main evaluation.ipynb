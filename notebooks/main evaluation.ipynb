{
 "cells": [
  {
   "cell_type": "code",
   "execution_count": 10,
   "metadata": {},
   "outputs": [
    {
     "name": "stdout",
     "output_type": "stream",
     "text": [
      "The autoreload extension is already loaded. To reload it, use:\n",
      "  %reload_ext autoreload\n"
     ]
    }
   ],
   "source": [
    "import sys\n",
    "sys.path.append(\"../src\")\n",
    "\n",
    "import pandas as pd\n",
    "import numpy as np\n",
    "import spacy\n",
    "from models.SIM import SIM\n",
    "import utils\n",
    "import pickle\n",
    "from sympy.parsing.sympy_parser import parse_expr\n",
    "from sympy.parsing.sympy_parser import standard_transformations, convert_xor,implicit_multiplication\n",
    "\n",
    "%load_ext autoreload\n",
    "%autoreload 2"
   ]
  },
  {
   "cell_type": "code",
   "execution_count": 2,
   "metadata": {},
   "outputs": [],
   "source": [
    "math_train = pd.read_json(r\"..\\Data\\dolphin-number_word_std\\number_word_std.dev.json\")\n",
    "math_test = pd.read_json(r\"..\\Data\\dolphin-number_word_std\\number_word_std.test.json\")"
   ]
  },
  {
   "cell_type": "code",
   "execution_count": 7,
   "metadata": {},
   "outputs": [
    {
     "data": {
      "text/plain": [
       "SIM()"
      ]
     },
     "execution_count": 7,
     "metadata": {},
     "output_type": "execute_result"
    }
   ],
   "source": [
    "model = SIM()\n",
    "model.fit(math_train)"
   ]
  },
  {
   "cell_type": "code",
   "execution_count": 8,
   "metadata": {},
   "outputs": [
    {
     "data": {
      "text/plain": [
       "0.17379679144385027"
      ]
     },
     "execution_count": 8,
     "metadata": {},
     "output_type": "execute_result"
    }
   ],
   "source": [
    "model.score(math_train)"
   ]
  },
  {
   "cell_type": "code",
   "execution_count": 8,
   "metadata": {},
   "outputs": [
    {
     "data": {
      "text/plain": [
       "['unkn: d, g',\n",
       " 'equ: a+b+c+d=17',\n",
       " 'equ: d+m+f+g=17',\n",
       " 'equ: g+h+i=17',\n",
       " 'equ: a = 4',\n",
       " 'equ: be_different(a,b,c,d,m,f,g,h,i)',\n",
       " 'equ: a >= 1',\n",
       " 'equ: a <= 9',\n",
       " 'equ: b >= 1',\n",
       " 'equ: b <= 9',\n",
       " 'equ: c >= 1',\n",
       " 'equ: c <= 9',\n",
       " 'equ: d >= 1',\n",
       " 'equ: d <= 9',\n",
       " 'equ: m >= 1',\n",
       " 'equ: m <= 9',\n",
       " 'equ: f >= 1',\n",
       " 'equ: f <= 9',\n",
       " 'equ: g >= 1',\n",
       " 'equ: g <= 9',\n",
       " 'equ: h >= 1',\n",
       " 'equ: h <= 9',\n",
       " 'equ: i >= 1',\n",
       " 'equ: i <= 9']"
      ]
     },
     "execution_count": 8,
     "metadata": {},
     "output_type": "execute_result"
    }
   ],
   "source": [
    "math_eq_format=['unkn: d, g', 'equ: a+b+c+d=17', 'equ: d+m+f+g=17', 'equ: g+h+i=17', 'equ: a = 4', 'equ: be_different(a,b,c,d,m,f,g,h,i)', 'equ: a >= 1', 'equ: a <= 9', 'equ: b >= 1', 'equ: b <= 9', 'equ: c >= 1', 'equ: c <= 9', 'equ: d >= 1', 'equ: d <= 9', 'equ: m >= 1', 'equ: m <= 9', 'equ: f >= 1', 'equ: f <= 9', 'equ: g >= 1', 'equ: g <= 9', 'equ: h >= 1', 'equ: h <= 9', 'equ: i >= 1', 'equ: i <= 9']\n",
    "math_eq_format"
   ]
  },
  {
   "cell_type": "code",
   "execution_count": null,
   "metadata": {},
   "outputs": [],
   "source": [
    "TRANSFORMATION = standard_transformations + (implicit_multiplication,convert_xor,)\n",
    "kw_parser = dict(evaluate=True,transformations=TRANSFORMATION)"
   ]
  },
  {
   "cell_type": "code",
   "execution_count": 27,
   "metadata": {},
   "outputs": [
    {
     "data": {
      "text/plain": [
       "True"
      ]
     },
     "execution_count": 27,
     "metadata": {},
     "output_type": "execute_result"
    }
   ],
   "source": []
  },
  {
   "cell_type": "code",
   "execution_count": 11,
   "metadata": {},
   "outputs": [
    {
     "ename": "NameError",
     "evalue": "name 'kw_parser' is not defined",
     "output_type": "error",
     "traceback": [
      "\u001b[1;31m---------------------------------------------------------------------------\u001b[0m",
      "\u001b[1;31mNameError\u001b[0m                                 Traceback (most recent call last)",
      "\u001b[1;32m<ipython-input-11-d7e063a08a05>\u001b[0m in \u001b[0;36m<module>\u001b[1;34m()\u001b[0m\n\u001b[0;32m     10\u001b[0m         \u001b[0mto_wolfram\u001b[0m\u001b[1;33m=\u001b[0m\u001b[1;32mFalse\u001b[0m\u001b[1;33m\u001b[0m\u001b[0m\n\u001b[0;32m     11\u001b[0m         \u001b[0mrhs\u001b[0m\u001b[1;33m,\u001b[0m\u001b[0mlhs\u001b[0m \u001b[1;33m=\u001b[0m \u001b[0mclean_eq\u001b[0m\u001b[1;33m.\u001b[0m\u001b[0msplit\u001b[0m\u001b[1;33m(\u001b[0m\u001b[1;34m'='\u001b[0m\u001b[1;33m)\u001b[0m\u001b[1;33m\u001b[0m\u001b[0m\n\u001b[1;32m---> 12\u001b[1;33m         \u001b[0mparse_eq_list\u001b[0m \u001b[1;33m+=\u001b[0m \u001b[1;33m[\u001b[0m\u001b[0mparse_expr\u001b[0m\u001b[1;33m(\u001b[0m\u001b[0mlhs\u001b[0m\u001b[1;33m,\u001b[0m \u001b[1;33m**\u001b[0m\u001b[0mkw_parser\u001b[0m\u001b[1;33m)\u001b[0m \u001b[1;33m*\u001b[0m \u001b[1;33m-\u001b[0m\u001b[1;36m1\u001b[0m \u001b[1;33m+\u001b[0m \u001b[0mparse_expr\u001b[0m\u001b[1;33m(\u001b[0m\u001b[0mrhs\u001b[0m\u001b[1;33m,\u001b[0m \u001b[1;33m**\u001b[0m\u001b[0mkw_parser\u001b[0m\u001b[1;33m)\u001b[0m\u001b[1;33m]\u001b[0m\u001b[1;33m\u001b[0m\u001b[0m\n\u001b[0m",
      "\u001b[1;31mNameError\u001b[0m: name 'kw_parser' is not defined"
     ]
    }
   ],
   "source": [
    "to_wolfram=True\n",
    "parse_eq_list = []\n",
    "for eq in math_eq_format[1:]:\n",
    "    # remove whitespaces and move to onesided equation\n",
    "    clean_eq = eq.split('equ: ')[-1].replace(' ','')\n",
    "    if '<=' in clean_eq:\n",
    "        rhs,lhs = clean_eq.split('<=')\n",
    "        parse_eq_list.append()\n",
    "    else:\n",
    "        to_wolfram=False\n",
    "        rhs,lhs = clean_eq.split('=')\n",
    "        parse_eq_list += [parse_expr(lhs, **kw_parser) * -1 + parse_expr(rhs, **kw_parser)]"
   ]
  },
  {
   "cell_type": "code",
   "execution_count": null,
   "metadata": {},
   "outputs": [],
   "source": []
  }
 ],
 "metadata": {
  "kernelspec": {
   "display_name": "Python 3",
   "language": "python",
   "name": "python3"
  },
  "language_info": {
   "codemirror_mode": {
    "name": "ipython",
    "version": 3
   },
   "file_extension": ".py",
   "mimetype": "text/x-python",
   "name": "python",
   "nbconvert_exporter": "python",
   "pygments_lexer": "ipython3",
   "version": "3.7.0"
  }
 },
 "nbformat": 4,
 "nbformat_minor": 2
}
