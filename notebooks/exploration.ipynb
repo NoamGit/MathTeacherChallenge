{
 "cells": [
  {
   "cell_type": "code",
   "execution_count": 2,
   "metadata": {},
   "outputs": [],
   "source": [
    "import pandas as pd\n",
    "import numpy as np\n",
    "import spacy"
   ]
  },
  {
   "cell_type": "code",
   "execution_count": 8,
   "metadata": {},
   "outputs": [],
   "source": [
    "math_train = pd.read_json('../Data/dolphin-number_word_std/number_word_std.dev.json')\n",
    "math_test = pd.read_json('../Data/dolphin-number_word_std/number_word_std.test.json')"
   ]
  },
  {
   "cell_type": "code",
   "execution_count": 13,
   "metadata": {},
   "outputs": [
    {
     "data": {
      "text/html": [
       "<div>\n",
       "<style scoped>\n",
       "    .dataframe tbody tr th:only-of-type {\n",
       "        vertical-align: middle;\n",
       "    }\n",
       "\n",
       "    .dataframe tbody tr th {\n",
       "        vertical-align: top;\n",
       "    }\n",
       "\n",
       "    .dataframe thead th {\n",
       "        text-align: right;\n",
       "    }\n",
       "</style>\n",
       "<table border=\"1\" class=\"dataframe\">\n",
       "  <thead>\n",
       "    <tr style=\"text-align: right;\">\n",
       "      <th></th>\n",
       "      <th>ans</th>\n",
       "      <th>ans_simple</th>\n",
       "      <th>equations</th>\n",
       "      <th>id</th>\n",
       "      <th>index</th>\n",
       "      <th>sources</th>\n",
       "      <th>text</th>\n",
       "    </tr>\n",
       "  </thead>\n",
       "  <tbody>\n",
       "    <tr>\n",
       "      <th>0</th>\n",
       "      <td>{40;29}</td>\n",
       "      <td>[40, 29]</td>\n",
       "      <td>[unkn: x,y, equ: x=y+11, equ: 3*x=4*y+4]</td>\n",
       "      <td>algebra.com.117395</td>\n",
       "      <td>1043</td>\n",
       "      <td>algebra.com.117395</td>\n",
       "      <td>one number is 11 more than another number. Fin...</td>\n",
       "    </tr>\n",
       "    <tr>\n",
       "      <th>1</th>\n",
       "      <td>6; 9</td>\n",
       "      <td>[6, 9]</td>\n",
       "      <td>[unkn: x,y, equ: x + 3 = y, equ: 2*y + 12 = 5*x]</td>\n",
       "      <td>yahoo.answers.20091227181039aazhen8</td>\n",
       "      <td>1617</td>\n",
       "      <td>https://answers.yahoo.com/question/index?qid=2...</td>\n",
       "      <td>One number is 3 less than a second number. Twi...</td>\n",
       "    </tr>\n",
       "    <tr>\n",
       "      <th>2</th>\n",
       "      <td>{34; 28}</td>\n",
       "      <td>[34, 28]</td>\n",
       "      <td>[unkn: x,y, equ: x+y=62, equ: x-y=6]</td>\n",
       "      <td>algebra.com.101793</td>\n",
       "      <td>49</td>\n",
       "      <td>algebra.com.101793</td>\n",
       "      <td>Find two numbers whose sum is 62 and whose dif...</td>\n",
       "    </tr>\n",
       "    <tr>\n",
       "      <th>3</th>\n",
       "      <td>{42;26}</td>\n",
       "      <td>[42, 26]</td>\n",
       "      <td>[unkn: x,y, equ: x+y=68, equ: x-y=16]</td>\n",
       "      <td>algebra.com.112903</td>\n",
       "      <td>1032</td>\n",
       "      <td>algebra.com.112903</td>\n",
       "      <td>the sum of two numbers is 68. their difference...</td>\n",
       "    </tr>\n",
       "    <tr>\n",
       "      <th>4</th>\n",
       "      <td>{77; 20}</td>\n",
       "      <td>[77, 20]</td>\n",
       "      <td>[unkn: x,y, equ: x+y=97, equ: x-y=57]</td>\n",
       "      <td>algebra.com.193198</td>\n",
       "      <td>1256</td>\n",
       "      <td>algebra.com.193198</td>\n",
       "      <td>the sum of two numbers is 97. the difference o...</td>\n",
       "    </tr>\n",
       "  </tbody>\n",
       "</table>\n",
       "</div>"
      ],
      "text/plain": [
       "        ans ans_simple                                         equations  \\\n",
       "0   {40;29}   [40, 29]          [unkn: x,y, equ: x=y+11, equ: 3*x=4*y+4]   \n",
       "1      6; 9     [6, 9]  [unkn: x,y, equ: x + 3 = y, equ: 2*y + 12 = 5*x]   \n",
       "2  {34; 28}   [34, 28]              [unkn: x,y, equ: x+y=62, equ: x-y=6]   \n",
       "3   {42;26}   [42, 26]             [unkn: x,y, equ: x+y=68, equ: x-y=16]   \n",
       "4  {77; 20}   [77, 20]             [unkn: x,y, equ: x+y=97, equ: x-y=57]   \n",
       "\n",
       "                                    id  index  \\\n",
       "0                   algebra.com.117395   1043   \n",
       "1  yahoo.answers.20091227181039aazhen8   1617   \n",
       "2                   algebra.com.101793     49   \n",
       "3                   algebra.com.112903   1032   \n",
       "4                   algebra.com.193198   1256   \n",
       "\n",
       "                                             sources  \\\n",
       "0                                 algebra.com.117395   \n",
       "1  https://answers.yahoo.com/question/index?qid=2...   \n",
       "2                                 algebra.com.101793   \n",
       "3                                 algebra.com.112903   \n",
       "4                                 algebra.com.193198   \n",
       "\n",
       "                                                text  \n",
       "0  one number is 11 more than another number. Fin...  \n",
       "1  One number is 3 less than a second number. Twi...  \n",
       "2  Find two numbers whose sum is 62 and whose dif...  \n",
       "3  the sum of two numbers is 68. their difference...  \n",
       "4  the sum of two numbers is 97. the difference o...  "
      ]
     },
     "execution_count": 13,
     "metadata": {},
     "output_type": "execute_result"
    }
   ],
   "source": [
    "math_train.head()"
   ]
  },
  {
   "cell_type": "code",
   "execution_count": 23,
   "metadata": {},
   "outputs": [
    {
     "data": {
      "text/plain": [
       "ans                                                      12; 14\n",
       "ans_simple                                             [12, 14]\n",
       "equations         [unkn: x,x+2, equ: x^2+(x+2)^2=340, equ: x>0]\n",
       "id                                           algebra.com.238134\n",
       "index                                                       252\n",
       "sources                                      algebra.com.238134\n",
       "text          the sum of the squares of two consecutive posi...\n",
       "Name: 65, dtype: object"
      ]
     },
     "execution_count": 23,
     "metadata": {},
     "output_type": "execute_result"
    }
   ],
   "source": [
    "math_train.iloc[65]"
   ]
  },
  {
   "cell_type": "code",
   "execution_count": null,
   "metadata": {},
   "outputs": [],
   "source": []
  }
 ],
 "metadata": {
  "kernelspec": {
   "display_name": "Python 3",
   "language": "python",
   "name": "python3"
  },
  "language_info": {
   "codemirror_mode": {
    "name": "ipython",
    "version": 3
   },
   "file_extension": ".py",
   "mimetype": "text/x-python",
   "name": "python",
   "nbconvert_exporter": "python",
   "pygments_lexer": "ipython3",
   "version": "3.7.0"
  }
 },
 "nbformat": 4,
 "nbformat_minor": 2
}
